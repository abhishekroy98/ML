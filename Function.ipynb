{
 "cells": [
  {
   "cell_type": "code",
   "execution_count": 2,
   "metadata": {},
   "outputs": [
    {
     "name": "stdout",
     "output_type": "stream",
     "text": [
      "4  is maximum\n"
     ]
    }
   ],
   "source": [
    "def printMax(a, b):\n",
    "    if a > b:\n",
    "           print(a, ' is maximum')\n",
    "    elif a == b:\n",
    "           print(a,  'is equal to', b)\n",
    "    else:\n",
    "           print(b, ' is maximum')\n",
    "printMax(3, 4)"
   ]
  },
  {
   "cell_type": "code",
   "execution_count": 4,
   "metadata": {},
   "outputs": [
    {
     "name": "stdout",
     "output_type": "stream",
     "text": [
      "50\n"
     ]
    }
   ],
   "source": [
    "x = 50\n",
    "def change(x):\n",
    "     x = 2\n",
    "change(x)\n",
    "print(x)"
   ]
  },
  {
   "cell_type": "code",
   "execution_count": 6,
   "metadata": {},
   "outputs": [
    {
     "name": "stdout",
     "output_type": "stream",
     "text": [
      "9 27\n"
     ]
    }
   ],
   "source": [
    "def power(x, y=2):\n",
    "        ans = 1\n",
    "        for i in range(y):\n",
    "            ans = ans * x\n",
    "        return ans\n",
    "print(power(3), end=\" \")\n",
    "print(power(3,3))"
   ]
  },
  {
   "cell_type": "code",
   "execution_count": 11,
   "metadata": {},
   "outputs": [
    {
     "name": "stdout",
     "output_type": "stream",
     "text": [
      "2\n",
      "8\n",
      "34\n",
      "144\n",
      "610\n",
      "2584\n",
      "10946\n",
      "46368\n",
      "196418\n",
      "832040\n"
     ]
    }
   ],
   "source": [
    "def fab (n):\n",
    "    a,b=0,1\n",
    "    for i in range(30):\n",
    "        if (b%2==0):\n",
    "            print (b)\n",
    "        b=b+a\n",
    "        a=b-a\n",
    "fab(2)"
   ]
  },
  {
   "cell_type": "code",
   "execution_count": 1,
   "metadata": {},
   "outputs": [
    {
     "name": "stdout",
     "output_type": "stream",
     "text": [
      "23\n"
     ]
    },
    {
     "name": "stderr",
     "output_type": "stream",
     "text": [
      "C:\\ProgramData\\Anaconda3\\lib\\site-packages\\ipykernel\\parentpoller.py:116: UserWarning: Parent poll failed.  If the frontend dies,\n",
      "                the kernel may be left running.  Please let us know\n",
      "                about your system (bitness, Python, etc.) at\n",
      "                ipython-dev@scipy.org\n",
      "  ipython-dev@scipy.org\"\"\")\n"
     ]
    }
   ],
   "source": [
    "print(23)"
   ]
  },
  {
   "cell_type": "code",
   "execution_count": null,
   "metadata": {},
   "outputs": [],
   "source": [
    "count=1\n",
    "n=int(input())\n",
    "for i in range (n):\n",
    "    j=0\n",
    "    if(i%2==0):\n",
    "        while(j<=i):\n",
    "            print (count,end=\" \")\n",
    "            count+=1\n",
    "            j+=1\n",
    "    else:\n",
    "        count+=i\n",
    "        while(j<=i):\n",
    "            print (count,end=\" \")\n",
    "            count-=1\n",
    "            j+=1\n",
    "        count+=i+1\n",
    "    print()"
   ]
  },
  {
   "cell_type": "code",
   "execution_count": 7,
   "metadata": {},
   "outputs": [
    {
     "name": "stdout",
     "output_type": "stream",
     "text": [
      "500\n",
      "188\n"
     ]
    }
   ],
   "source": [
    "n=int(input())\n",
    "a,b=0,1\n",
    "sum=0\n",
    "while(b<=n):\n",
    "    if(b%2==0):\n",
    "        sum+=b\n",
    "    b+=a\n",
    "    a=b-a\n",
    "print(sum)"
   ]
  },
  {
   "cell_type": "code",
   "execution_count": 11,
   "metadata": {},
   "outputs": [
    {
     "name": "stdout",
     "output_type": "stream",
     "text": [
      "15315\n",
      "11101111010011\n"
     ]
    }
   ],
   "source": [
    "n=int(input())\n",
    "res=\"\"\n",
    "while(n>1):\n",
    "    if n%2==0:\n",
    "        res='0'+res\n",
    "        n/=2\n",
    "    else :\n",
    "        res='1'+res\n",
    "        n=(n-1)/2\n",
    "#     n/=2\n",
    "if n==1:\n",
    "    res='1'+res\n",
    "print(res)    "
   ]
  },
  {
   "cell_type": "code",
   "execution_count": 13,
   "metadata": {},
   "outputs": [
    {
     "name": "stdout",
     "output_type": "stream",
     "text": [
      "25\n",
      "2\n",
      "3\n",
      "5\n",
      "7\n",
      "11\n",
      "13\n",
      "17\n",
      "19\n",
      "23\n"
     ]
    }
   ],
   "source": [
    "n=int(input())\n",
    "for i in range(2,n+1):\n",
    "    prime=True\n",
    "    for j in range(2,i):\n",
    "        if i%j==0:\n",
    "            prime=False\n",
    "    if prime:\n",
    "        print(i)"
   ]
  },
  {
   "cell_type": "code",
   "execution_count": 15,
   "metadata": {},
   "outputs": [
    {
     "name": "stdout",
     "output_type": "stream",
     "text": [
      "25\n",
      "6\n"
     ]
    }
   ],
   "source": [
    "n=int(input())\n",
    "res=0;\n",
    "temp=5\n",
    "while n>=temp:\n",
    "    res+=n//temp\n",
    "    temp*=5\n",
    "print(res)"
   ]
  },
  {
   "cell_type": "code",
   "execution_count": 26,
   "metadata": {},
   "outputs": [
    {
     "name": "stdout",
     "output_type": "stream",
     "text": [
      "5\n",
      "['h', 'e', 'l', 'l', 'o']\n",
      "['h', 'e', 'l', 'l', 'o']\n"
     ]
    }
   ],
   "source": [
    "list1 = list([1, 2, 3])\n",
    "list1 = ['h', 'e', 'l', 'l', 'o']\n",
    "print(len(list1))\n",
    "list1 = list() \n",
    "type(list1)\n",
    "print(list(\"hello\"))\n",
    "len(list(\"hello\"))\n",
    "print([i.lower() for i in \"HELLO\"])"
   ]
  },
  {
   "cell_type": "code",
   "execution_count": 33,
   "metadata": {},
   "outputs": [
    {
     "name": "stdout",
     "output_type": "stream",
     "text": [
      "5 8 7 4 5 4\n",
      "4 5 7 8 "
     ]
    }
   ],
   "source": [
    "a=input()\n",
    "LIS=[int(b) for b in a.split(\" \")]\n",
    "n=LIS[0:1][0]\n",
    "lis=LIS[1:n]\n",
    "\n",
    "for i in range(len(lis)):\n",
    "    min=i\n",
    "    for j in range (i,len(lis)):\n",
    "        if lis[min]>lis[j]:\n",
    "            min=j\n",
    "    a=lis[min]\n",
    "    lis[min]=lis[i]\n",
    "    lis[i]=a\n",
    "for i in range(len(lis)):\n",
    "    print(lis[i],end=\" \")"
   ]
  },
  {
   "cell_type": "markdown",
   "metadata": {},
   "source": [
    "n=int(input())\n",
    "a=input()\n",
    "list=[int (b) for b in  a.strip().split(\" \")]\n",
    "print(list)\n",
    "list.sort()\n",
    "for b in list:\n",
    "    print (b)"
   ]
  },
  {
   "cell_type": "code",
   "execution_count": 10,
   "metadata": {},
   "outputs": [
    {
     "name": "stdout",
     "output_type": "stream",
     "text": [
      "234\n",
      "12 234 35 56 13\n",
      "12 13 35 56 234 "
     ]
    }
   ],
   "source": [
    "n=int(input()) \n",
    "a=input() \n",
    "list=[int (b) for b in a.strip().split(\" \")] \n",
    "list.sort() \n",
    "for b in list: \n",
    "    print (b,end=\" \")"
   ]
  },
  {
   "cell_type": "code",
   "execution_count": 1,
   "metadata": {},
   "outputs": [],
   "source": [
    "def abc(a,v):\n",
    "    a=5\n",
    "    v=6"
   ]
  },
  {
   "cell_type": "code",
   "execution_count": 23,
   "metadata": {},
   "outputs": [
    {
     "name": "stdout",
     "output_type": "stream",
     "text": [
      "6\n",
      "1 1 1 1 1 1\n",
      "-1\n"
     ]
    }
   ],
   "source": [
    "n=int(input()) \n",
    "a=input() \n",
    "list=[int (b) for b in a.strip().split(\" \")] \n",
    "sum=0 \n",
    "for b in list: \n",
    "    sum+=b\n",
    "right=sum-list[0]\n",
    "left=0\n",
    "res=False\n",
    "for i in range(len(list)):\n",
    "    if left==right : \n",
    "        res=True\n",
    "        break\n",
    "    if i==len(list)-1:\n",
    "        break\n",
    "    left+=list[i]\n",
    "    right-=list[i+1]\n",
    "if res:\n",
    "    print(i)\n",
    "else:\n",
    "    print(-1)"
   ]
  },
  {
   "cell_type": "code",
   "execution_count": 32,
   "metadata": {},
   "outputs": [
    {
     "name": "stdout",
     "output_type": "stream",
     "text": [
      "6\n",
      "3 12 34 2 0 -1\n",
      "34 2 0 -1 "
     ]
    }
   ],
   "source": [
    "n=int(input()) \n",
    "a=input() \n",
    "list=[int (b) for b in a.strip().split(\" \")] \n",
    "max=list[len(list)-1]\n",
    "ans=[list[len(list)-1]]\n",
    "for i in range (len(list)-2,-1,-1):\n",
    "    if max <= list[i]:\n",
    "        max=list[i]\n",
    "        ans.append(list[i])\n",
    "for i in range (len(ans)-1,-1,-1):\n",
    "    print(ans[i],end=\" \")"
   ]
  }
 ],
 "metadata": {
  "kernelspec": {
   "display_name": "Python 3",
   "language": "python",
   "name": "python3"
  },
  "language_info": {
   "codemirror_mode": {
    "name": "ipython",
    "version": 3
   },
   "file_extension": ".py",
   "mimetype": "text/x-python",
   "name": "python",
   "nbconvert_exporter": "python",
   "pygments_lexer": "ipython3",
   "version": "3.7.0"
  }
 },
 "nbformat": 4,
 "nbformat_minor": 2
}
