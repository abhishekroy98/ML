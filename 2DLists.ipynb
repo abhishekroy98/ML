{
 "cells": [
  {
   "cell_type": "code",
   "execution_count": 11,
   "metadata": {},
   "outputs": [
    {
     "name": "stdout",
     "output_type": "stream",
     "text": [
      "2 3\n",
      "2 5 8 7 6 3\n",
      "[2, 5, 8, 7, 6, 3]\n"
     ]
    },
    {
     "data": {
      "text/plain": [
       "[[2, 5, 8], [7, 6, 3]]"
      ]
     },
     "execution_count": 11,
     "metadata": {},
     "output_type": "execute_result"
    }
   ],
   "source": [
    "n,m=input().strip().split(\" \")\n",
    "n=int(n)\n",
    "m=int(m)\n",
    "list=[int(b) for b in input().strip().split(\" \")]\n",
    "print(list)\n",
    "out=[[list[i*m+j] for j in range(m)]for i in range(n)]\n",
    "out"
   ]
  },
  {
   "cell_type": "code",
   "execution_count": 15,
   "metadata": {},
   "outputs": [
    {
     "data": {
      "text/plain": [
       "[[2, 5, 8], [3, 6, 7]]"
      ]
     },
     "execution_count": 15,
     "metadata": {},
     "output_type": "execute_result"
    }
   ],
   "source": [
    "out2=[]\n",
    "for i in range(n):\n",
    "    out2.append([])\n",
    "    if i%2==0:\n",
    "        for j in range(m):\n",
    "            out2[i].append(list[i*m+j])\n",
    "    else:\n",
    "        for j in range(m):\n",
    "            out2[i].append(list[(i+1)*m-j-1])\n",
    "out2"
   ]
  },
  {
   "cell_type": "code",
   "execution_count": 18,
   "metadata": {},
   "outputs": [
    {
     "name": "stdout",
     "output_type": "stream",
     "text": [
      "3 3\n",
      "3 6 9 1 4 7 2 8 9\n",
      "[3, 6, 9, 1, 4, 7, 2, 8, 9]\n",
      "column  2 25 "
     ]
    }
   ],
   "source": [
    "n,m=input().strip().split(\" \")\n",
    "n=int(n)\n",
    "m=int(m)\n",
    "list=[int(b) for b in input().strip().split(\" \")]\n",
    "print(list)\n",
    "out=[[list[i*m+j] for j in range(m)]for i in range(n)]\n",
    "row=True\n",
    "mv=0\n",
    "mi=0\n",
    "for i in range (n):\n",
    "    sum=0\n",
    "    for j  in range (m):\n",
    "        sum+=out[i][j]\n",
    "    if sum>mv:\n",
    "        mv=sum\n",
    "        mi=i\n",
    "for j in range (m):\n",
    "    sum=0\n",
    "    for i  in range (n):\n",
    "        sum+=out[i][j]\n",
    "    if sum>mv:\n",
    "        mv=sum\n",
    "        mi=j\n",
    "        row=False\n",
    "if row:\n",
    "    print(\"row\",end=\" \")\n",
    "    print(mi,end=\" \")\n",
    "    print(mv,end=\" \")\n",
    "else:\n",
    "    print(\"column \",end=\" \")\n",
    "    print(mi,end=\" \")\n",
    "    print(mv,end=\" \")"
   ]
  },
  {
   "cell_type": "code",
   "execution_count": 22,
   "metadata": {},
   "outputs": [
    {
     "name": "stdout",
     "output_type": "stream",
     "text": [
      "4 4 1 2 3 4 5 6 7 8 9 10 11 12 13 14 15 16\n",
      "1 2 3 4 8 12 16 15 14 13 9 5 6 7 11 10 "
     ]
    }
   ],
   "source": [
    "a=input().strip().split(\" \")\n",
    "n,m=a[0:2]\n",
    "n=int(n)\n",
    "m=int(m)\n",
    "list=[int(b) for b in a[2:]]\n",
    "out=[[list[i*m+j] for j in range(m)]for i in range(n)]\n",
    "si=sj=0\n",
    "ei=n-1\n",
    "ej=m-1\n",
    "while si<=ei and sj<ej:\n",
    "    for j in range(sj,ej+1):\n",
    "        print(out[si][j],end=\" \")\n",
    "    si+=1\n",
    "    for i in range(si,ei+1):\n",
    "        print(out[i][ej],end=\" \")\n",
    "    ej-=1\n",
    "    for j in range(ej,sj-1,-1):\n",
    "        print(out[ei][j],end=\" \")\n",
    "    ei-=1\n",
    "    for i in range(ei,si-1,-1):\n",
    "        print(out[i][sj],end=\" \")\n",
    "    sj+=1"
   ]
  },
  {
   "cell_type": "code",
   "execution_count": 2,
   "metadata": {},
   "outputs": [],
   "source": [
    "\n",
    "!tar chvfz notebook.tar.gz *"
   ]
  }
 ],
 "metadata": {
  "kernelspec": {
   "display_name": "Python 3",
   "language": "python",
   "name": "python3"
  },
  "language_info": {
   "codemirror_mode": {
    "name": "ipython",
    "version": 3
   },
   "file_extension": ".py",
   "mimetype": "text/x-python",
   "name": "python",
   "nbconvert_exporter": "python",
   "pygments_lexer": "ipython3",
   "version": "3.7.0"
  }
 },
 "nbformat": 4,
 "nbformat_minor": 2
}
