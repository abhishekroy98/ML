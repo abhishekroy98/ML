{
 "cells": [
  {
   "cell_type": "code",
   "execution_count": 13,
   "metadata": {},
   "outputs": [
    {
     "name": "stdout",
     "output_type": "stream",
     "text": [
      "100000 12\n",
      "1 1\n",
      "0\n",
      "1 10001\n",
      "2\n",
      "1 20001\n",
      "1\n",
      "2\n",
      "1 10001\n",
      "12\n",
      "1 11001\n",
      "1\n",
      "2\n",
      "1 10001\n",
      "1\n",
      "2\n",
      "1 9901\n",
      "1\n",
      "2\n",
      "1 9891\n",
      "1\n",
      "3 9891\n"
     ]
    }
   ],
   "source": [
    "import sys\n",
    "n,c=input().strip().split()\n",
    "n=int(n)\n",
    "c=int(c)\n",
    "def check(n,g,s):\n",
    "    while(s<=n):\n",
    "        print(1,end=\" \")\n",
    "        print(s)\n",
    "        sys.stdout.flush()\n",
    "        res=int(input())\n",
    "        if res==1:\n",
    "            if g==1:\n",
    "                return s\n",
    "            else:\n",
    "                print(2)\n",
    "                sys.stdout.flush()\n",
    "                return check (n,int(g/10),s-g)\n",
    "        if s+g<=n:\n",
    "            s+=g1\n",
    "        else:\n",
    "            s=n\n",
    "i=check(n,10000,1)\n",
    "print(3,end=\" \")\n",
    "print(i)"
   ]
  }
 ],
 "metadata": {
  "kernelspec": {
   "display_name": "Python 3",
   "language": "python",
   "name": "python3"
  },
  "language_info": {
   "codemirror_mode": {
    "name": "ipython",
    "version": 3
   },
   "file_extension": ".py",
   "mimetype": "text/x-python",
   "name": "python",
   "nbconvert_exporter": "python",
   "pygments_lexer": "ipython3",
   "version": "3.7.0"
  }
 },
 "nbformat": 4,
 "nbformat_minor": 2
}
