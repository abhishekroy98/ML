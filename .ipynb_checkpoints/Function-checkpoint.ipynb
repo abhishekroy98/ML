{
 "cells": [
  {
   "cell_type": "code",
   "execution_count": 2,
   "metadata": {},
   "outputs": [
    {
     "name": "stdout",
     "output_type": "stream",
     "text": [
      "4  is maximum\n"
     ]
    }
   ],
   "source": [
    "def printMax(a, b):\n",
    "    if a > b:\n",
    "       print(a, ' is maximum')\n",
    "    elif a == b:\n",
    "       print(a,  'is equal to', b)\n",
    "    else:\n",
    "      print(b, ' is maximum')\n",
    "printMax(3, 4)"
   ]
  },
  {
   "cell_type": "code",
   "execution_count": 4,
   "metadata": {},
   "outputs": [
    {
     "name": "stdout",
     "output_type": "stream",
     "text": [
      "50\n"
     ]
    }
   ],
   "source": [
    "x = 50\n",
    "def change(x):\n",
    "     x = 2\n",
    "change(x)\n",
    "print(x)"
   ]
  },
  {
   "cell_type": "code",
   "execution_count": 6,
   "metadata": {},
   "outputs": [
    {
     "name": "stdout",
     "output_type": "stream",
     "text": [
      "9 27\n"
     ]
    }
   ],
   "source": [
    "def power(x, y=2):\n",
    "        ans = 1\n",
    "        for i in range(y):\n",
    "            ans = ans * x\n",
    "        return ans\n",
    "print(power(3), end=\" \")\n",
    "print(power(3,3))"
   ]
  },
  {
   "cell_type": "code",
   "execution_count": 11,
   "metadata": {},
   "outputs": [
    {
     "name": "stdout",
     "output_type": "stream",
     "text": [
      "2\n",
      "8\n",
      "34\n",
      "144\n",
      "610\n",
      "2584\n",
      "10946\n",
      "46368\n",
      "196418\n",
      "832040\n"
     ]
    }
   ],
   "source": [
    "def fab (n):\n",
    "    a,b=0,1\n",
    "    for i in range(30):\n",
    "        if (b%2==0):\n",
    "            print (b)\n",
    "        b=b+a\n",
    "        a=b-a\n",
    "fab(2)"
   ]
  },
  {
   "cell_type": "code",
   "execution_count": 1,
   "metadata": {},
   "outputs": [
    {
     "name": "stdout",
     "output_type": "stream",
     "text": [
      "23\n"
     ]
    },
    {
     "name": "stderr",
     "output_type": "stream",
     "text": [
      "C:\\ProgramData\\Anaconda3\\lib\\site-packages\\ipykernel\\parentpoller.py:116: UserWarning: Parent poll failed.  If the frontend dies,\n",
      "                the kernel may be left running.  Please let us know\n",
      "                about your system (bitness, Python, etc.) at\n",
      "                ipython-dev@scipy.org\n",
      "  ipython-dev@scipy.org\"\"\")\n"
     ]
    }
   ],
   "source": [
    "print(23)"
   ]
  },
  {
   "cell_type": "code",
   "execution_count": null,
   "metadata": {},
   "outputs": [],
   "source": [
    "count=1\n",
    "n=int(input())\n",
    "for i in range (n):\n",
    "    j=0\n",
    "    if(i%2==0):\n",
    "        while(j<=i):\n",
    "            print (count,end=\" \")\n",
    "            count+=1\n",
    "            j+=1\n",
    "    else:\n",
    "        count+=i\n",
    "        while(j<=i):\n",
    "            print (count,end=\" \")\n",
    "            count-=1\n",
    "            j+=1\n",
    "        count+=i+1\n",
    "    print()"
   ]
  },
  {
   "cell_type": "code",
   "execution_count": 7,
   "metadata": {},
   "outputs": [
    {
     "name": "stdout",
     "output_type": "stream",
     "text": [
      "500\n",
      "188\n"
     ]
    }
   ],
   "source": [
    "n=int(input())\n",
    "a,b=0,1\n",
    "sum=0\n",
    "while(b<=n):\n",
    "    if(b%2==0):\n",
    "        sum+=b\n",
    "    b+=a\n",
    "    a=b-a\n",
    "print(sum)"
   ]
  },
  {
   "cell_type": "code",
   "execution_count": 11,
   "metadata": {},
   "outputs": [
    {
     "name": "stdout",
     "output_type": "stream",
     "text": [
      "15315\n",
      "11101111010011\n"
     ]
    }
   ],
   "source": [
    "n=int(input())\n",
    "res=\"\"\n",
    "while(n>1):\n",
    "    if n%2==0:\n",
    "        res='0'+res\n",
    "        n/=2\n",
    "    else :\n",
    "        res='1'+res\n",
    "        n=(n-1)/2\n",
    "#     n/=2\n",
    "if n==1:\n",
    "    res='1'+res\n",
    "print(res)    "
   ]
  },
  {
   "cell_type": "code",
   "execution_count": 13,
   "metadata": {},
   "outputs": [
    {
     "name": "stdout",
     "output_type": "stream",
     "text": [
      "25\n",
      "2\n",
      "3\n",
      "5\n",
      "7\n",
      "11\n",
      "13\n",
      "17\n",
      "19\n",
      "23\n"
     ]
    }
   ],
   "source": [
    "n=int(input())\n",
    "for i in range(2,n+1):\n",
    "    prime=True\n",
    "    for j in range(2,i):\n",
    "        if i%j==0:\n",
    "            prime=False\n",
    "    if prime:\n",
    "        print(i)"
   ]
  },
  {
   "cell_type": "code",
   "execution_count": null,
   "metadata": {},
   "outputs": [],
   "source": []
  }
 ],
 "metadata": {
  "kernelspec": {
   "display_name": "Python 3",
   "language": "python",
   "name": "python3"
  },
  "language_info": {
   "codemirror_mode": {
    "name": "ipython",
    "version": 3
   },
   "file_extension": ".py",
   "mimetype": "text/x-python",
   "name": "python",
   "nbconvert_exporter": "python",
   "pygments_lexer": "ipython3",
   "version": "3.7.0"
  }
 },
 "nbformat": 4,
 "nbformat_minor": 2
}
