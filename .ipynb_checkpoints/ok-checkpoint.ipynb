{
 "cells": [
  {
   "cell_type": "code",
   "execution_count": 1,
   "metadata": {},
   "outputs": [],
   "source": [
    "import numpy as np\n",
    "import pandas as pd\n",
    "from scipy import stats\n",
    "from sklearn import preprocessing"
   ]
  },
  {
   "cell_type": "code",
   "execution_count": 2,
   "metadata": {},
   "outputs": [],
   "source": [
    "def sgG(data,lr,m):\n",
    "    N,n=data.shape\n",
    "    ms=np.zeros(n)\n",
    "    for j in range(N):\n",
    "        x=data.iloc[j:j+1,0:n-1]\n",
    "        x=x.values\n",
    "        x=np.append(x,[1])\n",
    "        y=data.iloc[j:j+1,n-1:n]\n",
    "        M=(-2/N)*(y-(m*x).sum()).values\n",
    "        Z=(M*x)\n",
    "        ms=Z\n",
    "    nm = m-(lr*ms)\n",
    "    return nm"
   ]
  },
  {
   "cell_type": "code",
   "execution_count": 3,
   "metadata": {},
   "outputs": [],
   "source": [
    "def cost(data,m):\n",
    "    tc=0;\n",
    "    N,n=data.shape\n",
    "    for i in range(N):\n",
    "        x=data.iloc[i:i+1,0:n-1]\n",
    "        x=x.values\n",
    "        x=np.append(x,[1])\n",
    "#         x=x.reshape(1,5)\n",
    "# #         print(\"x_shape\",x.shape)\n",
    "#         x=scaler.transform(x)\n",
    "#         x=x.reshape(5,)\n",
    "        y=data.iloc[i:i+1,n-1:n].values\n",
    "        tc+=(y-((m*x).sum()))**2\n",
    "    return tc/N"
   ]
  },
  {
   "cell_type": "code",
   "execution_count": 20,
   "metadata": {},
   "outputs": [],
   "source": [
    "def gdG(data,lr,it):\n",
    "    N,M=data.shape\n",
    "    m= np.array([5.83523001e-03, 1.34815325e-02, 2.17491957e-01, 1.41259973e-02, 5.83523001e-03, 1.34815325e-02, 2.17491957e-01, 1.41259973e-02, 2.15046424e-04])\n",
    "    m=sgG(data,lr,m)\n",
    "    for i in range(it):\n",
    "#         print(m.shape)\n",
    "        m=sgG(data,lr,m) #single step\n",
    "        print(i, \" Cost: \",cost(data,m))\n",
    "    for i in m:\n",
    "        print(i,end=\", \")\n",
    "    return m"
   ]
  },
  {
   "cell_type": "code",
   "execution_count": null,
   "metadata": {},
   "outputs": [],
   "source": [
    "def run():\n",
    "    iris = pd.read_csv(\"cpp_train.csv\",delimiter=\",\")\n",
    "#     iris=iris.iloc[0:500,:]\n",
    "    res=iris.iloc[:,4:5]\n",
    "    iris=iris.iloc[:,0:4]\n",
    "    (N,M)=iris.shape\n",
    "#     print\n",
    "    k=0\n",
    "    for i in range(M):\n",
    "        iris[k]=(iris[iris.columns[i]]*iris[iris.columns[i]])**0.5\n",
    "        k=k+1\n",
    "    iris[' res']=res\n",
    "    data=iris\n",
    "    lr=0.000001\n",
    "    it=5\n",
    "    m=gdG(data,lr,it)\n",
    "    return m"
   ]
  },
  {
   "cell_type": "code",
   "execution_count": 46,
   "metadata": {},
   "outputs": [],
   "source": [
    "def predict(m,data):\n",
    "    N,n=data.shape\n",
    "    y=np.zeros(N)\n",
    "    for i in range(N):\n",
    "        x=data.iloc[j:j+1,:]\n",
    "        x=x.values\n",
    "#         print(x.shape)\n",
    "        x=np.append(x,[1])\n",
    "#         print(x.shape)\n",
    "#         print(x.shape,\"         \",m.shape)\n",
    "        y[i]=(m*x).sum()\n",
    "    return y\n",
    "        "
   ]
  },
  {
   "cell_type": "code",
   "execution_count": null,
   "metadata": {},
   "outputs": [
    {
     "name": "stdout",
     "output_type": "stream",
     "text": [
      "0  Cost:  [[359.31414458]]\n",
      "1  Cost:  [[359.29808106]]\n",
      "2  Cost:  [[359.28202804]]\n",
      "3  Cost:  [[359.26598554]]\n",
      "4  Cost:  [[359.24995353]]\n",
      "5  Cost:  [[359.23393202]]\n",
      "6  Cost:  [[359.21792098]]\n",
      "7  Cost:  [[359.20192043]]\n"
     ]
    }
   ],
   "source": [
    "# data=np.genfromtxt(\"cpp_train.csv\",delimiter=\",\")\n",
    "# data2=np.genfromtxt(\"cpp_test.csv\",delimiter=',')\n",
    "# N,n=data2.shape\n",
    "# x=data[:,:n]\n",
    "# x=np.concatenate((x, data2), axis=0)\n",
    "# M,n=x.shape\n",
    "# one=np.ones((x.shape[0],1))\n",
    "# x=np.append(x,one,axis=1)\n",
    "# scaler = preprocessing.StandardScaler()\n",
    "# scaler.fit(x)\n",
    "\n",
    "m=run()\n",
    "iris = pd.read_csv(\"cpp_test.csv\",delimiter=\",\")\n",
    "k=0\n",
    "N,M=iris.shape\n",
    "for i in range(M):\n",
    "    iris[k]=(iris[iris.columns[i]]*iris[iris.columns[i]])**0.5\n",
    "    k=k+1\n",
    "data_test=iris\n",
    "# print(\"data_test\", data_test.shape)\n",
    "y=predict(m,data_test)\n",
    "# print (data_test.shape)\n",
    "# print (y.shape)\n",
    "np.savetxt(\"cpp.csv\", y, delimiter=\",\", fmt='%.5f')"
   ]
  },
  {
   "cell_type": "code",
   "execution_count": null,
   "metadata": {
    "scrolled": false
   },
   "outputs": [],
   "source": [
    "# data=np.genfromtxt(\"cpp_train.csv\",delimiter=\",\")\n",
    "# iris = pd.read_csv(\"cpp_train.csv\",delimiter=\",\")\n",
    "# iris=iris.iloc[0:20,:]\n",
    "# # print(iris.head())\n",
    "# res=iris.iloc[:,4:5]\n",
    "# iris=iris.iloc[:,0:4]\n",
    "# (N,M)=iris.shape\n",
    "# k=0\n",
    "# for i in range(M):\n",
    "#     for j in range(M-i-1):\n",
    "#         iris[k]=(iris[iris.columns[i]]*iris[iris.columns[j+i+1]])**0.5\n",
    "#         print(i,j+i+1,\"ok\")\n",
    "#         k=k+1\n",
    "# iris[' res']=res\n",
    "# # data=iris\n",
    "# # print(data)\n",
    "# iris.head()\n",
    "# m=np.array([12,14])\n",
    "# m[0]"
   ]
  }
 ],
 "metadata": {
  "kernelspec": {
   "display_name": "Python 3",
   "language": "python",
   "name": "python3"
  },
  "language_info": {
   "codemirror_mode": {
    "name": "ipython",
    "version": 3
   },
   "file_extension": ".py",
   "mimetype": "text/x-python",
   "name": "python",
   "nbconvert_exporter": "python",
   "pygments_lexer": "ipython3",
   "version": "3.7.0"
  }
 },
 "nbformat": 4,
 "nbformat_minor": 2
}
