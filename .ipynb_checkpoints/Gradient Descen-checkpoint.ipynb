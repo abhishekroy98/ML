{
 "cells": [
  {
   "cell_type": "code",
   "execution_count": 1,
   "metadata": {},
   "outputs": [],
   "source": [
    "import numpy as np\n",
    "from scipy import stats"
   ]
  },
  {
   "cell_type": "code",
   "execution_count": 2,
   "metadata": {},
   "outputs": [],
   "source": [
    "def sgG(data,lr,m):\n",
    "    N,n=data.shape\n",
    "    ms=np.zeros(n)\n",
    "    nm=np.zeros(n)\n",
    "#     N=len(data)\n",
    "    for j in range(N):\n",
    "        for i in range(n):\n",
    "            x=data[j,0:n-1]\n",
    "            x=np.append(x,[1])\n",
    "            y=data[j,n-1:n]\n",
    "            ms[i]+=(-2/N)*(y-m[i]*x[i])*x[i]\n",
    "            nm[i]=m[i]-lr*ms[i]\n",
    "    return nm"
   ]
  },
  {
   "cell_type": "code",
   "execution_count": 3,
   "metadata": {},
   "outputs": [],
   "source": [
    "def sgGI(data,lr,m):\n",
    "    N,n=data.shape\n",
    "    ms=np.zeros(n)\n",
    "    nm=np.zeros(n)\n",
    "    for j in range(N):\n",
    "        x=data[j,0:n-1]\n",
    "        x=np.append(x,[1])\n",
    "        y=data[j,n-1:n]\n",
    "        ms=(-2/N)*(y-(m*x).sum())*x\n",
    "        nm=m-lr*ms\n",
    "        m=nm\n",
    "    return nm"
   ]
  },
  {
   "cell_type": "code",
   "execution_count": 4,
   "metadata": {},
   "outputs": [],
   "source": [
    "def cost(data,m):\n",
    "    tc=0;\n",
    "    N,n=data.shape\n",
    "    for i in range(N):\n",
    "        x=data[i,0:n-1]\n",
    "        x=np.append(x,[1])\n",
    "        y=data[i,n-1:n]\n",
    "        for j in range(n):\n",
    "            tc+=(y-m[j]*x[j])**2\n",
    "    return tc/N"
   ]
  },
  {
   "cell_type": "code",
   "execution_count": 17,
   "metadata": {},
   "outputs": [],
   "source": [
    "def gdG(data,lr,it):\n",
    "    N,M=data.shape\n",
    "    m=np.zeros(M);\n",
    "    for i in range (it):\n",
    "        m=sgGI(data,lr,m) #single step\n",
    "#         print(i, \" Cost: \",cost(data,m))\n",
    "    return m"
   ]
  },
  {
   "cell_type": "code",
   "execution_count": 15,
   "metadata": {},
   "outputs": [],
   "source": [
    "def run():\n",
    "    data=np.genfromtxt(\"cpp_train.csv\",delimiter=\",\")\n",
    "#     data=data[1:,:]\n",
    "    lr=0.00000007\n",
    "    it=50\n",
    "    m=gdG(data,lr,it)\n",
    "    return m"
   ]
  },
  {
   "cell_type": "code",
   "execution_count": 7,
   "metadata": {},
   "outputs": [],
   "source": [
    "def predict(m,data):\n",
    "    N,n=data.shape\n",
    "    y=np.zeros(N)\n",
    "    for i in range(N):\n",
    "        x=data[i,0:n]\n",
    "        x=np.append(x,[1])\n",
    "        for j in range(n+1):\n",
    "            y[i]+=m[j]*x[j]\n",
    "    return y\n",
    "        "
   ]
  },
  {
   "cell_type": "code",
   "execution_count": 19,
   "metadata": {
    "scrolled": true
   },
   "outputs": [],
   "source": [
    "m=run()\n",
    "data_test=np.genfromtxt(\"cpp_test.csv\",delimiter=',')\n",
    " \n",
    "y=predict(m,data_test)\n",
    "# print (data_test.shape)\n",
    "# print (y.shape)\n",
    "np.savetxt(\"finally.csv\", y, delimiter=\",\", fmt='%.5f')"
   ]
  },
  {
   "cell_type": "code",
   "execution_count": 8,
   "metadata": {},
   "outputs": [],
   "source": [
    "data=np.genfromtxt(\"result6GD.csv\",delimiter=',')"
   ]
  },
  {
   "cell_type": "code",
   "execution_count": 16,
   "metadata": {},
   "outputs": [
    {
     "data": {
      "text/plain": [
       "DescribeResult(nobs=7176, minmax=(array([  1.81,  25.36, 992.89,  25.56, 420.26]), array([  35.77,   81.56, 1033.3 ,  100.16,  495.76])), mean=array([  19.62971154,   54.28815357, 1013.26303233,   73.275818  ,\n",
       "        454.4312932 ]), variance=array([ 55.87945256, 162.59992728,  35.57959638, 213.89334135,\n",
       "       293.59352937]), skewness=array([-0.12743989,  0.20323595,  0.28251839, -0.41610598,  0.29920735]), kurtosis=array([-1.05242037, -1.44179867,  0.04869299, -0.48275005, -1.05952995]))"
      ]
     },
     "execution_count": 16,
     "metadata": {},
     "output_type": "execute_result"
    }
   ],
   "source": [
    "data=np.genfromtxt(\"cpp_train.csv\",delimiter=\",\")\n",
    "stats.describe(data)"
   ]
  }
 ],
 "metadata": {
  "kernelspec": {
   "display_name": "Python 3",
   "language": "python",
   "name": "python3"
  },
  "language_info": {
   "codemirror_mode": {
    "name": "ipython",
    "version": 3
   },
   "file_extension": ".py",
   "mimetype": "text/x-python",
   "name": "python",
   "nbconvert_exporter": "python",
   "pygments_lexer": "ipython3",
   "version": "3.7.0"
  }
 },
 "nbformat": 4,
 "nbformat_minor": 2
}
