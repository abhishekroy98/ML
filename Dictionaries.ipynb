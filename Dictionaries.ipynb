{
 "cells": [
  {
   "cell_type": "code",
   "execution_count": 3,
   "metadata": {},
   "outputs": [
    {
     "data": {
      "text/plain": [
       "False"
      ]
     },
     "execution_count": 3,
     "metadata": {},
     "output_type": "execute_result"
    }
   ],
   "source": [
    "d1 = {\"john\":40, \"peter\":45}\n",
    "d2 = {\"john\":466, \"peter\":45}\n",
    "d1 == d2"
   ]
  },
  {
   "cell_type": "code",
   "execution_count": 45,
   "metadata": {},
   "outputs": [
    {
     "name": "stdout",
     "output_type": "stream",
     "text": [
      "aig igr aierg\n",
      "aierg igr aig \n"
     ]
    }
   ],
   "source": [
    "#reverse each word\n",
    "\n",
    "a=input()\n",
    "s=0\n",
    "res=\"\"\n",
    "for i in range(len(a)):\n",
    "    if a[i]==\" \":\n",
    "        res=a[s:i]+\" \"+res\n",
    "        s=i+1\n",
    "res=a[s:i+1]+\" \"+res\n",
    "print(res)"
   ]
  },
  {
   "cell_type": "code",
   "execution_count": 56,
   "metadata": {},
   "outputs": [
    {
     "name": "stdout",
     "output_type": "stream",
     "text": [
      "5\n",
      "1 2 5 44 6\n",
      "4\n",
      "5 4 8 9 5\n",
      "58\n"
     ]
    }
   ],
   "source": [
    "n=int(input())\n",
    "arr1=[int (b) for b in input().strip().split(\" \")]\n",
    "m=int(input())\n",
    "arr2=[int (g) for g in input().strip().split(\" \")]\n",
    "sum1=0\n",
    "sum2=0\n",
    "sum=0\n",
    "i=0\n",
    "j=0\n",
    "while i<len(arr1) and j<len(arr2) :\n",
    "    if arr1[i]<arr2[j]:\n",
    "        sum1+=arr1[i]\n",
    "        i+=1\n",
    "    elif arr1[i]>arr2[j]:\n",
    "        sum2+=arr2[j]\n",
    "        j+=1\n",
    "    else:\n",
    "        if sum1>sum2:\n",
    "            sum+=sum1\n",
    "        else:\n",
    "            sum+=sum2\n",
    "        \n",
    "        sum1=sum2=arr1[i]\n",
    "        i+=1\n",
    "        j+=1\n",
    "while i<len(arr1):\n",
    "    sum1+=arr1[i]\n",
    "    i+=1\n",
    "while j<len(arr2):\n",
    "    sum2+=arr2[j]\n",
    "    j+=1\n",
    "if sum1>sum2:\n",
    "    sum+=sum1\n",
    "else:\n",
    "    sum+=sum2\n",
    "print(sum)"
   ]
  },
  {
   "cell_type": "code",
   "execution_count": 58,
   "metadata": {},
   "outputs": [
    {
     "name": "stdout",
     "output_type": "stream",
     "text": [
      "1231 312\n",
      "213 1321\n"
     ]
    }
   ],
   "source": [
    "a=input()\n",
    "print(a[::-1])"
   ]
  },
  {
   "cell_type": "code",
   "execution_count": 65,
   "metadata": {},
   "outputs": [
    {
     "name": "stdout",
     "output_type": "stream",
     "text": [
      "123\n",
      "{2: 24}\n"
     ]
    }
   ],
   "source": [
    "a=input()\n",
    "list={}\n",
    "print(list)\n",
    "maxstart=0\n",
    "maxmax=0\n",
    "start=0\n",
    "max=0\n",
    "for i in a:\n",
    "    if i in list:\n",
    "        if maxmax<max:\n",
    "            maxmax=max\n",
    "            maxstart=start\n",
    "       "
   ]
  },
  {
   "cell_type": "code",
   "execution_count": 1,
   "metadata": {},
   "outputs": [
    {
     "name": "stderr",
     "output_type": "stream",
     "text": [
      "C:\\ProgramData\\Anaconda3\\lib\\site-packages\\ipykernel\\parentpoller.py:116: UserWarning: Parent poll failed.  If the frontend dies,\n",
      "                the kernel may be left running.  Please let us know\n",
      "                about your system (bitness, Python, etc.) at\n",
      "                ipython-dev@scipy.org\n",
      "  ipython-dev@scipy.org\"\"\")\n"
     ]
    },
    {
     "name": "stdout",
     "output_type": "stream",
     "text": [
      "hgcu hfi\n",
      "\n"
     ]
    }
   ],
   "source": [
    "NO_OF_CHARS = 256\n",
    "  \n",
    "def longestUniqueSubsttr(string): \n",
    "    n = len(string) \n",
    "    Si=0\n",
    "    cur_len = 1        # To store the lenght of current substring \n",
    "    max_len = 1        # To store the result \n",
    "    prev_index = 0    # To store the previous index \n",
    "    i = 0\n",
    "    visited = [-1] * NO_OF_CHARS \n",
    "  \n",
    "    visited[ord(string[0])] = 0\n",
    "  \n",
    "    for i in range(1,n): \n",
    "        prev_index = visited[ord(string[i])] \n",
    "  \n",
    "        if prev_index == -1 or (i - cur_len > prev_index): \n",
    "            cur_len+=1\n",
    "  \n",
    "        else: \n",
    "            if cur_len > max_len: \n",
    "                max_len = cur_len\n",
    "                Si=i\n",
    "  \n",
    "            cur_len = i - prev_index \n",
    "            \n",
    "  \n",
    "        visited[ord(string[i])] = i \n",
    "    if cur_len > max_len: \n",
    "        max_len = cur_len \n",
    "  \n",
    "    return (max_len,Si)\n",
    "string = input()\n",
    "length,Si = longestUniqueSubsttr(string) \n",
    "print (string[Si-length:Si]) "
   ]
  },
  {
   "cell_type": "code",
   "execution_count": 3,
   "metadata": {},
   "outputs": [
    {
     "name": "stdout",
     "output_type": "stream",
     "text": [
      "0     40\n",
      "1     10\n",
      "2    100\n",
      "3     70\n",
      "4     40\n",
      "dtype: int64\n",
      "Min: 10.000000, Max: 100.000000\n",
      "[[10.]\n",
      " [ 5.]\n",
      " [20.]\n",
      " [15.]\n",
      " [10.]]\n",
      "[[ 40.]\n",
      " [ 10.]\n",
      " [100.]\n",
      " [ 70.]\n",
      " [ 40.]]\n"
     ]
    },
    {
     "name": "stderr",
     "output_type": "stream",
     "text": [
      "C:\\ProgramData\\Anaconda3\\lib\\site-packages\\sklearn\\utils\\validation.py:475: DataConversionWarning: Data with input dtype int64 was converted to float64 by MinMaxScaler.\n",
      "  warnings.warn(msg, DataConversionWarning)\n"
     ]
    }
   ],
   "source": [
    "from pandas import Series\n",
    "from sklearn.preprocessing import MinMaxScaler\n",
    "# define contrived series\n",
    "data = [40, 10, 100, 70, 40,]\n",
    "series = Series(data)\n",
    "print(series)\n",
    "# prepare data for normalization\n",
    "values = series.values\n",
    "values = values.reshape((len(values), 1))\n",
    "# train the normalization\n",
    "scaler = MinMaxScaler(feature_range=(5, 20))\n",
    "scaler = scaler.fit(values)\n",
    "print('Min: %f, Max: %f' % (scaler.data_min_, scaler.data_max_))\n",
    "# normalize the dataset and print\n",
    "normalized = scaler.transform(values)\n",
    "print(normalized)\n",
    "# inverse transform and print\n",
    "inversed = scaler.inverse_transform(normalized)\n",
    "print(inversed)"
   ]
  }
 ],
 "metadata": {
  "kernelspec": {
   "display_name": "Python 3",
   "language": "python",
   "name": "python3"
  },
  "language_info": {
   "codemirror_mode": {
    "name": "ipython",
    "version": 3
   },
   "file_extension": ".py",
   "mimetype": "text/x-python",
   "name": "python",
   "nbconvert_exporter": "python",
   "pygments_lexer": "ipython3",
   "version": "3.7.0"
  }
 },
 "nbformat": 4,
 "nbformat_minor": 2
}
